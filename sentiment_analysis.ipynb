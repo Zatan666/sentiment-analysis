{
  "nbformat": 4,
  "nbformat_minor": 0,
  "metadata": {
    "colab": {
      "name": "Untitled1.ipynb",
      "provenance": []
    },
    "kernelspec": {
      "name": "python3",
      "display_name": "Python 3"
    },
    "language_info": {
      "name": "python"
    }
  },
  "cells": [
    {
      "cell_type": "markdown",
      "metadata": {
        "id": "I2ck0RQq1fFB"
      },
      "source": [
        "# Packages"
      ]
    },
    {
      "cell_type": "code",
      "metadata": {
        "id": "HnLd0Rw41PTz"
      },
      "source": [
        "! pip install --quiet pythainlp"
      ],
      "execution_count": 1,
      "outputs": []
    },
    {
      "cell_type": "code",
      "metadata": {
        "colab": {
          "base_uri": "https://localhost:8080/"
        },
        "id": "nNC8teZ1reP_",
        "outputId": "a118e1e8-114d-42b9-fdf9-51480f9b7228"
      },
      "source": [
        "! pip install --upgrade gensim"
      ],
      "execution_count": 2,
      "outputs": [
        {
          "output_type": "stream",
          "text": [
            "Requirement already satisfied: gensim in /usr/local/lib/python3.7/dist-packages (4.0.1)\n",
            "Requirement already satisfied: smart-open>=1.8.1 in /usr/local/lib/python3.7/dist-packages (from gensim) (5.1.0)\n",
            "Requirement already satisfied: numpy>=1.11.3 in /usr/local/lib/python3.7/dist-packages (from gensim) (1.19.5)\n",
            "Requirement already satisfied: scipy>=0.18.1 in /usr/local/lib/python3.7/dist-packages (from gensim) (1.4.1)\n"
          ],
          "name": "stdout"
        }
      ]
    },
    {
      "cell_type": "code",
      "metadata": {
        "id": "1u4nI6UI2I3L"
      },
      "source": [
        "import pandas as pd\n",
        "import re\n",
        "# from nltk.tokenize import word_tokenize\n",
        "from pythainlp.tokenize import word_tokenize\n",
        "from keras.preprocessing.text import Tokenizer\n",
        "\n",
        "from keras.preprocessing.sequence import pad_sequences\n",
        "from sklearn.preprocessing import OneHotEncoder\n",
        "from sklearn.model_selection import train_test_split\n",
        "\n",
        "import numpy as np\n",
        "\n",
        "import tensorflow as tf\n",
        "import tensorflow.keras as keras\n",
        "import tensorflow.keras.layers as layers\n",
        "\n",
        "from tensorflow.keras.models import Sequential, load_model\n",
        "from tensorflow.keras.layers import Dense, GRU, LSTM, Bidirectional, Embedding, Dropout, BatchNormalization\n",
        "from tensorflow.keras.callbacks import ModelCheckpoint\n",
        "from tensorflow.keras.optimizers import Adam\n",
        "\n",
        "import seaborn as sn\n",
        "import matplotlib.pyplot as plt\n",
        "\n",
        "import pickle as p\n",
        "import plotly\n",
        "import plotly.graph_objs as go\n",
        "\n",
        "from sklearn.metrics import confusion_matrix\n",
        "\n",
        "from sklearn.metrics import classification_report"
      ],
      "execution_count": 3,
      "outputs": []
    },
    {
      "cell_type": "markdown",
      "metadata": {
        "id": "g9qQrOaRFUYn"
      },
      "source": [
        "# Cleaning Data"
      ]
    },
    {
      "cell_type": "code",
      "metadata": {
        "id": "Qqmdr-Lp48Dw"
      },
      "source": [
        "pos_df = pd.read_csv('pos.csv')\n",
        "neg_df = pd.read_csv('neg.csv')"
      ],
      "execution_count": 4,
      "outputs": []
    },
    {
      "cell_type": "code",
      "metadata": {
        "colab": {
          "base_uri": "https://localhost:8080/",
          "height": 0
        },
        "id": "PbeicXPu0WnK",
        "outputId": "2c8e7a51-67d1-4ce4-c4db-00fff6f4e3ca"
      },
      "source": [
        "neg_df.head()"
      ],
      "execution_count": 5,
      "outputs": [
        {
          "output_type": "execute_result",
          "data": {
            "text/html": [
              "<div>\n",
              "<style scoped>\n",
              "    .dataframe tbody tr th:only-of-type {\n",
              "        vertical-align: middle;\n",
              "    }\n",
              "\n",
              "    .dataframe tbody tr th {\n",
              "        vertical-align: top;\n",
              "    }\n",
              "\n",
              "    .dataframe thead th {\n",
              "        text-align: right;\n",
              "    }\n",
              "</style>\n",
              "<table border=\"1\" class=\"dataframe\">\n",
              "  <thead>\n",
              "    <tr style=\"text-align: right;\">\n",
              "      <th></th>\n",
              "      <th>Sentence</th>\n",
              "      <th>Category</th>\n",
              "    </tr>\n",
              "  </thead>\n",
              "  <tbody>\n",
              "    <tr>\n",
              "      <th>0</th>\n",
              "      <td>จะต้องเสียเธอไป</td>\n",
              "      <td>neg</td>\n",
              "    </tr>\n",
              "    <tr>\n",
              "      <th>1</th>\n",
              "      <td>รู้บ้างไหมว่าเจ็บแค่ไหน</td>\n",
              "      <td>neg</td>\n",
              "    </tr>\n",
              "    <tr>\n",
              "      <th>2</th>\n",
              "      <td>จะได้พร้อมทำใจ รอให้เธอบอก</td>\n",
              "      <td>neg</td>\n",
              "    </tr>\n",
              "    <tr>\n",
              "      <th>3</th>\n",
              "      <td>ไม่ชอบเลย</td>\n",
              "      <td>neg</td>\n",
              "    </tr>\n",
              "    <tr>\n",
              "      <th>4</th>\n",
              "      <td>เมื่อเธอเจ็บจากเขามา</td>\n",
              "      <td>neg</td>\n",
              "    </tr>\n",
              "  </tbody>\n",
              "</table>\n",
              "</div>"
            ],
            "text/plain": [
              "                     Sentence Category\n",
              "0             จะต้องเสียเธอไป      neg\n",
              "1     รู้บ้างไหมว่าเจ็บแค่ไหน      neg\n",
              "2  จะได้พร้อมทำใจ รอให้เธอบอก      neg\n",
              "3                   ไม่ชอบเลย      neg\n",
              "4        เมื่อเธอเจ็บจากเขามา      neg"
            ]
          },
          "metadata": {
            "tags": []
          },
          "execution_count": 5
        }
      ]
    },
    {
      "cell_type": "code",
      "metadata": {
        "colab": {
          "base_uri": "https://localhost:8080/"
        },
        "id": "vfY3zXbm0Lzh",
        "outputId": "df9905cb-9b09-4546-d65d-4fe02fd231ed"
      },
      "source": [
        "pos_df.shape"
      ],
      "execution_count": 6,
      "outputs": [
        {
          "output_type": "execute_result",
          "data": {
            "text/plain": [
              "(250, 2)"
            ]
          },
          "metadata": {
            "tags": []
          },
          "execution_count": 6
        }
      ]
    },
    {
      "cell_type": "code",
      "metadata": {
        "colab": {
          "base_uri": "https://localhost:8080/"
        },
        "id": "HF4wQGXb0Ng6",
        "outputId": "4de27663-2212-4b3b-fa0d-e657dddde772"
      },
      "source": [
        "neg_df.shape"
      ],
      "execution_count": 7,
      "outputs": [
        {
          "output_type": "execute_result",
          "data": {
            "text/plain": [
              "(250, 2)"
            ]
          },
          "metadata": {
            "tags": []
          },
          "execution_count": 7
        }
      ]
    },
    {
      "cell_type": "code",
      "metadata": {
        "id": "wsB5YUUb-Pr2",
        "colab": {
          "base_uri": "https://localhost:8080/"
        },
        "outputId": "e027233b-60d0-4897-e523-1aeb124decf9"
      },
      "source": [
        "sentiment_df = pd.concat([neg_df, pos_df])\n",
        "sentiment_df.shape"
      ],
      "execution_count": 8,
      "outputs": [
        {
          "output_type": "execute_result",
          "data": {
            "text/plain": [
              "(500, 2)"
            ]
          },
          "metadata": {
            "tags": []
          },
          "execution_count": 8
        }
      ]
    },
    {
      "cell_type": "code",
      "metadata": {
        "id": "uEaNUZkB-myd"
      },
      "source": [
        "def cleaning(sentences):\n",
        "    words = []\n",
        "    temp = []\n",
        "    for s in sentences:\n",
        "        clean = re.sub(r'^[ก-๙]', '', s)\n",
        "        w = word_tokenize(clean)\n",
        "        temp.append([i.lower() for i in w])\n",
        "        words.append(' '.join(w).lower())\n",
        "    return words, temp"
      ],
      "execution_count": 9,
      "outputs": []
    },
    {
      "cell_type": "code",
      "metadata": {
        "colab": {
          "base_uri": "https://localhost:8080/"
        },
        "id": "nmQjuXWm_f5D",
        "outputId": "98b70640-49f4-41b4-fc1a-bc4961865c8c"
      },
      "source": [
        "cleaned_words, temp = cleaning(sentiment_df.Sentence.values)\n",
        "print(cleaned_words[0])"
      ],
      "execution_count": 10,
      "outputs": [
        {
          "output_type": "stream",
          "text": [
            "ะ ต้อง เสีย เธอ ไป\n"
          ],
          "name": "stdout"
        }
      ]
    },
    {
      "cell_type": "markdown",
      "metadata": {
        "id": "qM8-4id8FfI1"
      },
      "source": [
        "# Create Tokenizer"
      ]
    },
    {
      "cell_type": "code",
      "metadata": {
        "id": "xBGzs35D_qXz"
      },
      "source": [
        "def create_tokenizer(words, filters = ''):\n",
        "    token = Tokenizer(filters=filters)\n",
        "    token.fit_on_texts(words)\n",
        "    return token"
      ],
      "execution_count": 11,
      "outputs": []
    },
    {
      "cell_type": "code",
      "metadata": {
        "id": "r7UyGAau_xqG",
        "colab": {
          "base_uri": "https://localhost:8080/"
        },
        "outputId": "60c5685a-4273-4127-d0b4-4ee6af3f3589"
      },
      "source": [
        "train_word_tokenizer = create_tokenizer(cleaned_words)\n",
        "vocab_size = len(train_word_tokenizer.word_index) + 1\n",
        "\n",
        "vocab_size"
      ],
      "execution_count": 12,
      "outputs": [
        {
          "output_type": "execute_result",
          "data": {
            "text/plain": [
              "828"
            ]
          },
          "metadata": {
            "tags": []
          },
          "execution_count": 12
        }
      ]
    },
    {
      "cell_type": "code",
      "metadata": {
        "id": "z5cEHhzMAqC1"
      },
      "source": [
        "max_length = max([len(i) for i in temp])"
      ],
      "execution_count": 13,
      "outputs": []
    },
    {
      "cell_type": "code",
      "metadata": {
        "id": "PHhA1BzvAsUM"
      },
      "source": [
        "def encoding_doc(token, words):\n",
        "    return token.texts_to_sequences(words)"
      ],
      "execution_count": 14,
      "outputs": []
    },
    {
      "cell_type": "code",
      "metadata": {
        "colab": {
          "base_uri": "https://localhost:8080/"
        },
        "id": "z4xjOUGSA9on",
        "outputId": "36566093-bc8f-4554-b7c5-697a1852cb4f"
      },
      "source": [
        "encoded_doc = encoding_doc(train_word_tokenizer, cleaned_words)\n",
        "\n",
        "print(cleaned_words[0])\n",
        "print(encoded_doc[0])"
      ],
      "execution_count": 15,
      "outputs": [
        {
          "output_type": "stream",
          "text": [
            "ะ ต้อง เสีย เธอ ไป\n",
            "[30, 17, 261, 1, 5]\n"
          ],
          "name": "stdout"
        }
      ]
    },
    {
      "cell_type": "markdown",
      "metadata": {
        "id": "S3YwAccIFm1n"
      },
      "source": [
        "# Padding"
      ]
    },
    {
      "cell_type": "code",
      "metadata": {
        "id": "dAyQEnCLBXsR"
      },
      "source": [
        "def padding_doc(encoded_doc, max_length):\n",
        "    return pad_sequences(encoded_doc, maxlen=max_length, padding='post')"
      ],
      "execution_count": 16,
      "outputs": []
    },
    {
      "cell_type": "code",
      "metadata": {
        "colab": {
          "base_uri": "https://localhost:8080/"
        },
        "id": "dapWIDKtBqsU",
        "outputId": "5c8c06b6-6ae2-45a3-9c15-426fcf57e532"
      },
      "source": [
        "padded_doc = padding_doc(encoded_doc, max_length)\n",
        "print(padded_doc.shape)\n",
        "\n",
        "print(cleaned_words[0])\n",
        "print(encoded_doc[0])\n",
        "print(padded_doc[0])"
      ],
      "execution_count": 17,
      "outputs": [
        {
          "output_type": "stream",
          "text": [
            "(500, 21)\n",
            "ะ ต้อง เสีย เธอ ไป\n",
            "[30, 17, 261, 1, 5]\n",
            "[ 30  17 261   1   5   0   0   0   0   0   0   0   0   0   0   0   0   0\n",
            "   0   0   0]\n"
          ],
          "name": "stdout"
        }
      ]
    },
    {
      "cell_type": "code",
      "metadata": {
        "colab": {
          "base_uri": "https://localhost:8080/"
        },
        "id": "oOfC34ymB5cL",
        "outputId": "a86b11de-69a2-4856-f94b-0c5e0beb9828"
      },
      "source": [
        "unique_category = sentiment_df.Category.unique()\n",
        "unique_category"
      ],
      "execution_count": 18,
      "outputs": [
        {
          "output_type": "execute_result",
          "data": {
            "text/plain": [
              "array(['neg', 'pos'], dtype=object)"
            ]
          },
          "metadata": {
            "tags": []
          },
          "execution_count": 18
        }
      ]
    },
    {
      "cell_type": "code",
      "metadata": {
        "id": "2pUCpnNuDMlP"
      },
      "source": [
        "output_tokenizer = create_tokenizer(unique_category)"
      ],
      "execution_count": 19,
      "outputs": []
    },
    {
      "cell_type": "code",
      "metadata": {
        "colab": {
          "base_uri": "https://localhost:8080/"
        },
        "id": "HUr-duFvDaZo",
        "outputId": "41157947-0e5c-4d6b-998b-c49bdff62a0e"
      },
      "source": [
        "encoded_output = encoding_doc(output_tokenizer, sentiment_df.Category)\n",
        "print(sentiment_df.Category.iloc[[0, 250],].values)\n",
        "print(encoded_output[0], encoded_output[250])"
      ],
      "execution_count": 20,
      "outputs": [
        {
          "output_type": "stream",
          "text": [
            "['neg' 'pos']\n",
            "[1] [2]\n"
          ],
          "name": "stdout"
        }
      ]
    },
    {
      "cell_type": "code",
      "metadata": {
        "colab": {
          "base_uri": "https://localhost:8080/"
        },
        "id": "6URWIhcUDqQC",
        "outputId": "24433b74-be5c-4b50-a447-8db6f8e3cf34"
      },
      "source": [
        "encoded_output = np.array(encoded_output).reshape(len(encoded_output), 1)\n",
        "encoded_output.shape"
      ],
      "execution_count": 21,
      "outputs": [
        {
          "output_type": "execute_result",
          "data": {
            "text/plain": [
              "(500, 1)"
            ]
          },
          "metadata": {
            "tags": []
          },
          "execution_count": 21
        }
      ]
    },
    {
      "cell_type": "markdown",
      "metadata": {
        "id": "2pyr3I1rFst_"
      },
      "source": [
        "# One hot"
      ]
    },
    {
      "cell_type": "code",
      "metadata": {
        "id": "BECEyum2EaHk"
      },
      "source": [
        "def one_hot(encode):\n",
        "  oh = OneHotEncoder(sparse = False)\n",
        "  return oh.fit_transform(encode)"
      ],
      "execution_count": 22,
      "outputs": []
    },
    {
      "cell_type": "code",
      "metadata": {
        "id": "ppa01EQYEx-H",
        "colab": {
          "base_uri": "https://localhost:8080/"
        },
        "outputId": "708719d9-aa1e-4a2f-b219-262f209f9127"
      },
      "source": [
        "output_one_hot = one_hot(encoded_output)\n",
        "\n",
        "output_one_hot[[0, 250]]  # first occuring of each class"
      ],
      "execution_count": 23,
      "outputs": [
        {
          "output_type": "execute_result",
          "data": {
            "text/plain": [
              "array([[1., 0.],\n",
              "       [0., 1.]])"
            ]
          },
          "metadata": {
            "tags": []
          },
          "execution_count": 23
        }
      ]
    },
    {
      "cell_type": "code",
      "metadata": {
        "colab": {
          "base_uri": "https://localhost:8080/"
        },
        "id": "R3E3sCDvEHWS",
        "outputId": "a844e0de-9b8d-4e6c-cb30-068e6b57db24"
      },
      "source": [
        "encoded_output[[0,250]]  # neg: 1 pos: 2"
      ],
      "execution_count": 24,
      "outputs": [
        {
          "output_type": "execute_result",
          "data": {
            "text/plain": [
              "array([[1],\n",
              "       [2]])"
            ]
          },
          "metadata": {
            "tags": []
          },
          "execution_count": 24
        }
      ]
    },
    {
      "cell_type": "markdown",
      "metadata": {
        "id": "j81qgjMKFMgN"
      },
      "source": [
        "# Create Model\n"
      ]
    },
    {
      "cell_type": "code",
      "metadata": {
        "id": "gDYmkfM6VlRT"
      },
      "source": [
        "X_train, X_val, y_train, y_val = train_test_split(padded_doc, output_one_hot, shuffle = True, test_size = 0.2, stratify=output_one_hot, random_state=0)"
      ],
      "execution_count": 25,
      "outputs": []
    },
    {
      "cell_type": "markdown",
      "metadata": {
        "id": "SeLaFAAMtgTv"
      },
      "source": [
        "## keras.layers.Embedding"
      ]
    },
    {
      "cell_type": "code",
      "metadata": {
        "id": "vfeNiUTFIXTG"
      },
      "source": [
        "num_classes = len(unique_category)"
      ],
      "execution_count": 26,
      "outputs": []
    },
    {
      "cell_type": "code",
      "metadata": {
        "id": "sQ4GhfINIi45"
      },
      "source": [
        "model = keras.Sequential([\n",
        "    layers.Embedding(vocab_size, 128, input_length=max_length, trainable=True),\n",
        "    layers.Bidirectional(layers.GRU(128, activation='relu')),\n",
        "    layers.Dense(128, activation='relu'),\n",
        "    layers.Dropout(0.8),\n",
        "    layers.Dense(64, activation='relu'),\n",
        "    layers.Dropout(0.8),\n",
        "    layers.BatchNormalization(),\n",
        "    layers.Dense(num_classes, activation='softmax')\n",
        "])"
      ],
      "execution_count": 27,
      "outputs": []
    },
    {
      "cell_type": "code",
      "metadata": {
        "id": "UEwCivB6JwHj"
      },
      "source": [
        "adam = Adam(learning_rate=0.003)\n",
        "\n",
        "model.compile(\n",
        "    optimizer = adam,\n",
        "    loss = 'categorical_crossentropy',\n",
        "    metrics = ['accuracy']\n",
        ")"
      ],
      "execution_count": 28,
      "outputs": []
    },
    {
      "cell_type": "code",
      "metadata": {
        "colab": {
          "base_uri": "https://localhost:8080/"
        },
        "id": "r8PU22noKlLT",
        "outputId": "ede873cb-22bf-4cde-934a-caaa5604687a"
      },
      "source": [
        "model.summary()"
      ],
      "execution_count": 29,
      "outputs": [
        {
          "output_type": "stream",
          "text": [
            "Model: \"sequential\"\n",
            "_________________________________________________________________\n",
            "Layer (type)                 Output Shape              Param #   \n",
            "=================================================================\n",
            "embedding (Embedding)        (None, 21, 128)           105984    \n",
            "_________________________________________________________________\n",
            "bidirectional (Bidirectional (None, 256)               198144    \n",
            "_________________________________________________________________\n",
            "dense (Dense)                (None, 128)               32896     \n",
            "_________________________________________________________________\n",
            "dropout (Dropout)            (None, 128)               0         \n",
            "_________________________________________________________________\n",
            "dense_1 (Dense)              (None, 64)                8256      \n",
            "_________________________________________________________________\n",
            "dropout_1 (Dropout)          (None, 64)                0         \n",
            "_________________________________________________________________\n",
            "batch_normalization (BatchNo (None, 64)                256       \n",
            "_________________________________________________________________\n",
            "dense_2 (Dense)              (None, 2)                 130       \n",
            "=================================================================\n",
            "Total params: 345,666\n",
            "Trainable params: 345,538\n",
            "Non-trainable params: 128\n",
            "_________________________________________________________________\n"
          ],
          "name": "stdout"
        }
      ]
    },
    {
      "cell_type": "code",
      "metadata": {
        "id": "5RMuAP32KnKm"
      },
      "source": [
        "filename = 'model.h5'\n",
        "checkpoint = ModelCheckpoint(filename, verbose=1, save_best_only=True, mode='min')"
      ],
      "execution_count": 30,
      "outputs": []
    },
    {
      "cell_type": "code",
      "metadata": {
        "colab": {
          "base_uri": "https://localhost:8080/"
        },
        "id": "4XoKmUe_K5V3",
        "outputId": "1388a91c-3ff7-4d3b-b437-cbd64d08e663"
      },
      "source": [
        "history = model.fit(\n",
        "    X_train,\n",
        "    y_train,\n",
        "    epochs = 30,\n",
        "    validation_data = (X_val , y_val),\n",
        "    callbacks = [checkpoint],\n",
        "    verbose = 0\n",
        ")"
      ],
      "execution_count": 31,
      "outputs": [
        {
          "output_type": "stream",
          "text": [
            "\n",
            "Epoch 00001: val_loss improved from inf to 0.69276, saving model to model.h5\n",
            "\n",
            "Epoch 00002: val_loss did not improve from 0.69276\n",
            "\n",
            "Epoch 00003: val_loss did not improve from 0.69276\n",
            "\n",
            "Epoch 00004: val_loss did not improve from 0.69276\n",
            "\n",
            "Epoch 00005: val_loss improved from 0.69276 to 0.69207, saving model to model.h5\n",
            "\n",
            "Epoch 00006: val_loss did not improve from 0.69207\n",
            "\n",
            "Epoch 00007: val_loss improved from 0.69207 to 0.69195, saving model to model.h5\n",
            "\n",
            "Epoch 00008: val_loss improved from 0.69195 to 0.69180, saving model to model.h5\n",
            "\n",
            "Epoch 00009: val_loss did not improve from 0.69180\n",
            "\n",
            "Epoch 00010: val_loss did not improve from 0.69180\n",
            "\n",
            "Epoch 00011: val_loss improved from 0.69180 to 0.69114, saving model to model.h5\n",
            "\n",
            "Epoch 00012: val_loss improved from 0.69114 to 0.69028, saving model to model.h5\n",
            "\n",
            "Epoch 00013: val_loss improved from 0.69028 to 0.68628, saving model to model.h5\n",
            "\n",
            "Epoch 00014: val_loss improved from 0.68628 to 0.68096, saving model to model.h5\n",
            "\n",
            "Epoch 00015: val_loss improved from 0.68096 to 0.63532, saving model to model.h5\n",
            "\n",
            "Epoch 00016: val_loss did not improve from 0.63532\n",
            "\n",
            "Epoch 00017: val_loss did not improve from 0.63532\n",
            "\n",
            "Epoch 00018: val_loss did not improve from 0.63532\n",
            "\n",
            "Epoch 00019: val_loss did not improve from 0.63532\n",
            "\n",
            "Epoch 00020: val_loss did not improve from 0.63532\n",
            "\n",
            "Epoch 00021: val_loss did not improve from 0.63532\n",
            "\n",
            "Epoch 00022: val_loss improved from 0.63532 to 0.63372, saving model to model.h5\n",
            "\n",
            "Epoch 00023: val_loss did not improve from 0.63372\n",
            "\n",
            "Epoch 00024: val_loss improved from 0.63372 to 0.62747, saving model to model.h5\n",
            "\n",
            "Epoch 00025: val_loss did not improve from 0.62747\n",
            "\n",
            "Epoch 00026: val_loss did not improve from 0.62747\n",
            "\n",
            "Epoch 00027: val_loss did not improve from 0.62747\n",
            "\n",
            "Epoch 00028: val_loss did not improve from 0.62747\n",
            "\n",
            "Epoch 00029: val_loss did not improve from 0.62747\n",
            "\n",
            "Epoch 00030: val_loss did not improve from 0.62747\n"
          ],
          "name": "stdout"
        }
      ]
    },
    {
      "cell_type": "code",
      "metadata": {
        "id": "OJvI0N-bg9yi"
      },
      "source": [
        "import pandas as pd\n",
        "pd.plotting.register_matplotlib_converters()\n",
        "import matplotlib.pyplot as plt\n",
        "%matplotlib inline\n",
        "import seaborn as sns"
      ],
      "execution_count": 32,
      "outputs": []
    },
    {
      "cell_type": "code",
      "metadata": {
        "id": "IqkOX0-T_Nio"
      },
      "source": [
        "loss = {key : history.history.get(key) for key in ('loss', 'val_loss')}\n",
        "accuracy = {key : history.history.get(key) for key in ('accuracy', 'val_accuracy')}"
      ],
      "execution_count": 33,
      "outputs": []
    },
    {
      "cell_type": "code",
      "metadata": {
        "colab": {
          "base_uri": "https://localhost:8080/",
          "height": 500
        },
        "id": "pNRyNjgs957g",
        "outputId": "e8cf500c-d5b5-4f37-9652-f4ef64e38bfa"
      },
      "source": [
        "plt.figure(figsize=(20,8))\n",
        "\n",
        "sns.lineplot(data=loss)"
      ],
      "execution_count": 34,
      "outputs": [
        {
          "output_type": "execute_result",
          "data": {
            "text/plain": [
              "<matplotlib.axes._subplots.AxesSubplot at 0x7f337e88f1d0>"
            ]
          },
          "metadata": {
            "tags": []
          },
          "execution_count": 34
        },
        {
          "output_type": "display_data",
          "data": {
            "image/png": "[encoded data removed]",
            "text/plain": [
              "<Figure size 1440x576 with 1 Axes>"
            ]
          },
          "metadata": {
            "tags": [],
            "needs_background": "light"
          }
        }
      ]
    },
    {
      "cell_type": "code",
      "metadata": {
        "colab": {
          "base_uri": "https://localhost:8080/",
          "height": 500
        },
        "id": "QKWSMdDCsnRC",
        "outputId": "732f89bb-5ac0-4df8-9bd1-e14bb4a8ec72"
      },
      "source": [
        "plt.figure(figsize=(20,8))\n",
        "\n",
        "sns.lineplot(data=accuracy)"
      ],
      "execution_count": 35,
      "outputs": [
        {
          "output_type": "execute_result",
          "data": {
            "text/plain": [
              "<matplotlib.axes._subplots.AxesSubplot at 0x7f337d419f50>"
            ]
          },
          "metadata": {
            "tags": []
          },
          "execution_count": 35
        },
        {
          "output_type": "display_data",
          "data": {
            "image/png": "[encoded data removed]",
            "text/plain": [
              "<Figure size 1440x576 with 1 Axes>"
            ]
          },
          "metadata": {
            "tags": [],
            "needs_background": "light"
          }
        }
      ]
    },
    {
      "cell_type": "code",
      "metadata": {
        "id": "KnlnszpRTCus"
      },
      "source": [
        "predict_model = load_model(filename)"
      ],
      "execution_count": 36,
      "outputs": []
    },
    {
      "cell_type": "code",
      "metadata": {
        "colab": {
          "base_uri": "https://localhost:8080/"
        },
        "id": "-nQOUSf-vlkF",
        "outputId": "a958258c-ef88-4f25-b61c-14034ade2171"
      },
      "source": [
        "score = predict_model.evaluate(X_val, y_val, verbose=0)\n",
        "print('Test loss:', score[0])\n",
        "print('Test accuracy:', score[1])"
      ],
      "execution_count": 37,
      "outputs": [
        {
          "output_type": "stream",
          "text": [
            "Test loss: 0.6274746656417847\n",
            "Test accuracy: 0.6200000047683716\n"
          ],
          "name": "stdout"
        }
      ]
    },
    {
      "cell_type": "code",
      "metadata": {
        "id": "9tXn2FgQS-os"
      },
      "source": [
        "pred = np.argmax(model.predict(X_val), axis=-1)  # 0 means neg, 1 means pos\n",
        "y_true = np.argmax(y_val,axis = 1)"
      ],
      "execution_count": 38,
      "outputs": []
    },
    {
      "cell_type": "code",
      "metadata": {
        "colab": {
          "base_uri": "https://localhost:8080/",
          "height": 623
        },
        "id": "yR1pJ3XwTotu",
        "outputId": "8deab389-4d12-4c73-a6f8-6f76df6f420c"
      },
      "source": [
        "cm = confusion_matrix(y_true, pred)\n",
        "\n",
        "plt.figure(figsize=(12, 10))\n",
        "\n",
        "sns.heatmap(data=cm, annot=True)\n",
        "plt.xlabel('Predicted')\n",
        "plt.ylabel('Actual')"
      ],
      "execution_count": 39,
      "outputs": [
        {
          "output_type": "execute_result",
          "data": {
            "text/plain": [
              "Text(87.0, 0.5, 'Actual')"
            ]
          },
          "metadata": {
            "tags": []
          },
          "execution_count": 39
        },
        {
          "output_type": "display_data",
          "data": {
            "image/png": "[encoded data removed]",
            "text/plain": [
              "<Figure size 864x720 with 2 Axes>"
            ]
          },
          "metadata": {
            "tags": [],
            "needs_background": "light"
          }
        }
      ]
    },
    {
      "cell_type": "code",
      "metadata": {
        "id": "0iZxyYT8yIUn"
      },
      "source": [
        "label_dict = output_tokenizer.word_index\n",
        "label = [key for key, value in label_dict.items()]"
      ],
      "execution_count": 40,
      "outputs": []
    },
    {
      "cell_type": "code",
      "metadata": {
        "id": "oLxMKe3qyIUp"
      },
      "source": [
        "label = [key for key, value in label_dict.items()]"
      ],
      "execution_count": 41,
      "outputs": []
    },
    {
      "cell_type": "code",
      "metadata": {
        "colab": {
          "base_uri": "https://localhost:8080/"
        },
        "id": "UptxxqnqyIUq",
        "outputId": "abdac54f-836f-4dfa-fd5e-1671c15af50a"
      },
      "source": [
        "print(classification_report(y_true, pred, target_names=label, digits=4))\n"
      ],
      "execution_count": 42,
      "outputs": [
        {
          "output_type": "stream",
          "text": [
            "              precision    recall  f1-score   support\n",
            "\n",
            "         neg     0.6207    0.7200    0.6667        50\n",
            "         pos     0.6667    0.5600    0.6087        50\n",
            "\n",
            "    accuracy                         0.6400       100\n",
            "   macro avg     0.6437    0.6400    0.6377       100\n",
            "weighted avg     0.6437    0.6400    0.6377       100\n",
            "\n"
          ],
          "name": "stdout"
        }
      ]
    },
    {
      "cell_type": "markdown",
      "metadata": {
        "id": "QYnGK6rHtPnt"
      },
      "source": [
        "## Gensim"
      ]
    },
    {
      "cell_type": "code",
      "metadata": {
        "colab": {
          "base_uri": "https://localhost:8080/"
        },
        "id": "wzG3pslitN-c",
        "outputId": "c48d7a94-14ed-4b12-b65b-b08fc2c4baad"
      },
      "source": [
        "from gensim.models import Word2Vec\n",
        "\n",
        "sentences = [st.split() for st in cleaned_words]\n",
        "\n",
        "dimension = 128\n",
        "w2v_model = Word2Vec(sentences, min_count=1, vector_size=dimension, workers=6, sg=1, epochs=1000)\n",
        "w2v_model.save('w2v_model.bin')\n",
        "new_model = Word2Vec.load('w2v_model.bin')"
      ],
      "execution_count": 43,
      "outputs": [
        {
          "output_type": "stream",
          "text": [
            "/usr/local/lib/python3.7/dist-packages/gensim/similarities/__init__.py:15: UserWarning:\n",
            "\n",
            "The gensim.similarities.levenshtein submodule is disabled, because the optional Levenshtein package <https://pypi.org/project/python-Levenshtein/> is unavailable. Install Levenhstein (e.g. `pip install python-Levenshtein`) to suppress this warning.\n",
            "\n"
          ],
          "name": "stderr"
        }
      ]
    },
    {
      "cell_type": "code",
      "metadata": {
        "id": "9AJOkvYf80Qo"
      },
      "source": [
        "embedding_matrix = np.zeros((vocab_size, dimension))\n",
        "\n",
        "for word, i in train_word_tokenizer.word_index.items():\n",
        "    if word in new_model.wv.key_to_index:\n",
        "        embedding_vector = new_model.wv[word]\n",
        "        embedding_matrix[i] = embedding_vector"
      ],
      "execution_count": 44,
      "outputs": []
    },
    {
      "cell_type": "code",
      "metadata": {
        "colab": {
          "base_uri": "https://localhost:8080/"
        },
        "id": "M6XCPU5880TG",
        "outputId": "f0f19d78-31be-4fbd-a4e8-c62f2f4b7f01"
      },
      "source": [
        "adam = Adam(lr=0.003)\n",
        "\n",
        "def create_model(vocab_size, max_length):\n",
        "  model = Sequential()\n",
        "  \n",
        "  model.add(Embedding(vocab_size, dimension, input_length = max_length, trainable = False, weights=[embedding_matrix]))\n",
        "  model.add(Bidirectional(GRU(128, activation = \"relu\")))\n",
        "  model.add(Dense(128, activation = \"relu\"))\n",
        "  model.add(Dropout(0.8))\n",
        "  model.add(Dense(64, activation = \"relu\"))\n",
        "  model.add(Dropout(0.8))\n",
        "  model.add(BatchNormalization())\n",
        "  model.add(Dense(num_classes, activation = \"softmax\"))\n",
        "  \n",
        "  return model\n",
        "  \n",
        "model = create_model(vocab_size, max_length)"
      ],
      "execution_count": 45,
      "outputs": [
        {
          "output_type": "stream",
          "text": [
            "/usr/local/lib/python3.7/dist-packages/tensorflow/python/keras/optimizer_v2/optimizer_v2.py:375: UserWarning:\n",
            "\n",
            "The `lr` argument is deprecated, use `learning_rate` instead.\n",
            "\n"
          ],
          "name": "stderr"
        }
      ]
    },
    {
      "cell_type": "code",
      "metadata": {
        "colab": {
          "base_uri": "https://localhost:8080/"
        },
        "id": "NHi5jvMf80Vl",
        "outputId": "1f200ae0-ba8d-4270-e103-588acb731124"
      },
      "source": [
        "model.compile(loss = 'categorical_crossentropy', optimizer = adam, metrics = ['accuracy'])\n",
        "model.summary()"
      ],
      "execution_count": 46,
      "outputs": [
        {
          "output_type": "stream",
          "text": [
            "Model: \"sequential_1\"\n",
            "_________________________________________________________________\n",
            "Layer (type)                 Output Shape              Param #   \n",
            "=================================================================\n",
            "embedding_1 (Embedding)      (None, 21, 128)           105984    \n",
            "_________________________________________________________________\n",
            "bidirectional_1 (Bidirection (None, 256)               198144    \n",
            "_________________________________________________________________\n",
            "dense_3 (Dense)              (None, 128)               32896     \n",
            "_________________________________________________________________\n",
            "dropout_2 (Dropout)          (None, 128)               0         \n",
            "_________________________________________________________________\n",
            "dense_4 (Dense)              (None, 64)                8256      \n",
            "_________________________________________________________________\n",
            "dropout_3 (Dropout)          (None, 64)                0         \n",
            "_________________________________________________________________\n",
            "batch_normalization_1 (Batch (None, 64)                256       \n",
            "_________________________________________________________________\n",
            "dense_5 (Dense)              (None, 2)                 130       \n",
            "=================================================================\n",
            "Total params: 345,666\n",
            "Trainable params: 239,554\n",
            "Non-trainable params: 106,112\n",
            "_________________________________________________________________\n"
          ],
          "name": "stdout"
        }
      ]
    },
    {
      "cell_type": "code",
      "metadata": {
        "id": "jE58zQp480X-"
      },
      "source": [
        "filename = 'model.gensim.h5'\n",
        "checkpoint = ModelCheckpoint(filename, monitor='val_loss', verbose=1, save_best_only=True, mode='min')"
      ],
      "execution_count": 47,
      "outputs": []
    },
    {
      "cell_type": "code",
      "metadata": {
        "colab": {
          "base_uri": "https://localhost:8080/"
        },
        "id": "KXNMp5D-9Cff",
        "outputId": "fccca08e-209b-4da5-d43f-59a90107e3e5"
      },
      "source": [
        "EPOCHS = 30\n",
        "gensim_hist = model.fit(X_train, y_train, epochs = EPOCHS, validation_data = (X_val, y_val), callbacks = [checkpoint], verbose = 0)"
      ],
      "execution_count": 48,
      "outputs": [
        {
          "output_type": "stream",
          "text": [
            "\n",
            "Epoch 00001: val_loss improved from inf to 0.69931, saving model to model.gensim.h5\n",
            "\n",
            "Epoch 00002: val_loss improved from 0.69931 to 0.69027, saving model to model.gensim.h5\n",
            "\n",
            "Epoch 00003: val_loss improved from 0.69027 to 0.68758, saving model to model.gensim.h5\n",
            "\n",
            "Epoch 00004: val_loss did not improve from 0.68758\n",
            "\n",
            "Epoch 00005: val_loss improved from 0.68758 to 0.68631, saving model to model.gensim.h5\n",
            "\n",
            "Epoch 00006: val_loss did not improve from 0.68631\n",
            "\n",
            "Epoch 00007: val_loss did not improve from 0.68631\n",
            "\n",
            "Epoch 00008: val_loss improved from 0.68631 to 0.68623, saving model to model.gensim.h5\n",
            "\n",
            "Epoch 00009: val_loss improved from 0.68623 to 0.68554, saving model to model.gensim.h5\n",
            "\n",
            "Epoch 00010: val_loss improved from 0.68554 to 0.68282, saving model to model.gensim.h5\n",
            "\n",
            "Epoch 00011: val_loss did not improve from 0.68282\n",
            "\n",
            "Epoch 00012: val_loss improved from 0.68282 to 0.67831, saving model to model.gensim.h5\n",
            "\n",
            "Epoch 00013: val_loss improved from 0.67831 to 0.67501, saving model to model.gensim.h5\n",
            "\n",
            "Epoch 00014: val_loss did not improve from 0.67501\n",
            "\n",
            "Epoch 00015: val_loss did not improve from 0.67501\n",
            "\n",
            "Epoch 00016: val_loss improved from 0.67501 to 0.65528, saving model to model.gensim.h5\n",
            "\n",
            "Epoch 00017: val_loss did not improve from 0.65528\n",
            "\n",
            "Epoch 00018: val_loss improved from 0.65528 to 0.64084, saving model to model.gensim.h5\n",
            "\n",
            "Epoch 00019: val_loss did not improve from 0.64084\n",
            "\n",
            "Epoch 00020: val_loss improved from 0.64084 to 0.64033, saving model to model.gensim.h5\n",
            "\n",
            "Epoch 00021: val_loss did not improve from 0.64033\n",
            "\n",
            "Epoch 00022: val_loss improved from 0.64033 to 0.63207, saving model to model.gensim.h5\n",
            "\n",
            "Epoch 00023: val_loss did not improve from 0.63207\n",
            "\n",
            "Epoch 00024: val_loss did not improve from 0.63207\n",
            "\n",
            "Epoch 00025: val_loss did not improve from 0.63207\n",
            "\n",
            "Epoch 00026: val_loss did not improve from 0.63207\n",
            "\n",
            "Epoch 00027: val_loss did not improve from 0.63207\n",
            "\n",
            "Epoch 00028: val_loss improved from 0.63207 to 0.62619, saving model to model.gensim.h5\n",
            "\n",
            "Epoch 00029: val_loss did not improve from 0.62619\n",
            "\n",
            "Epoch 00030: val_loss did not improve from 0.62619\n"
          ],
          "name": "stdout"
        }
      ]
    },
    {
      "cell_type": "code",
      "metadata": {
        "colab": {
          "base_uri": "https://localhost:8080/"
        },
        "id": "eUclklZb9Cij",
        "outputId": "12c641cd-4db5-4828-b165-ce30c248502a"
      },
      "source": [
        "predict_model = load_model(filename)\n",
        "predict_model.summary()"
      ],
      "execution_count": 49,
      "outputs": [
        {
          "output_type": "stream",
          "text": [
            "Model: \"sequential_1\"\n",
            "_________________________________________________________________\n",
            "Layer (type)                 Output Shape              Param #   \n",
            "=================================================================\n",
            "embedding_1 (Embedding)      (None, 21, 128)           105984    \n",
            "_________________________________________________________________\n",
            "bidirectional_1 (Bidirection (None, 256)               198144    \n",
            "_________________________________________________________________\n",
            "dense_3 (Dense)              (None, 128)               32896     \n",
            "_________________________________________________________________\n",
            "dropout_2 (Dropout)          (None, 128)               0         \n",
            "_________________________________________________________________\n",
            "dense_4 (Dense)              (None, 64)                8256      \n",
            "_________________________________________________________________\n",
            "dropout_3 (Dropout)          (None, 64)                0         \n",
            "_________________________________________________________________\n",
            "batch_normalization_1 (Batch (None, 64)                256       \n",
            "_________________________________________________________________\n",
            "dense_5 (Dense)              (None, 2)                 130       \n",
            "=================================================================\n",
            "Total params: 345,666\n",
            "Trainable params: 239,554\n",
            "Non-trainable params: 106,112\n",
            "_________________________________________________________________\n"
          ],
          "name": "stdout"
        }
      ]
    },
    {
      "cell_type": "code",
      "metadata": {
        "colab": {
          "base_uri": "https://localhost:8080/"
        },
        "id": "TbLyFaC09CmO",
        "outputId": "d395f60b-8ee0-40f5-b068-5aef691b4b42"
      },
      "source": [
        "score = predict_model.evaluate(X_val, y_val, verbose=0)\n",
        "print('Test loss:', score[0])\n",
        "print('Test accuracy:', score[1])"
      ],
      "execution_count": 50,
      "outputs": [
        {
          "output_type": "stream",
          "text": [
            "Test loss: 0.6261888146400452\n",
            "Test accuracy: 0.6800000071525574\n"
          ],
          "name": "stdout"
        }
      ]
    },
    {
      "cell_type": "code",
      "metadata": {
        "id": "88XQcD7A9Vqc"
      },
      "source": [
        "with open('history_model.gensim', 'wb') as file:\n",
        "    p.dump(gensim_hist.history, file)"
      ],
      "execution_count": 51,
      "outputs": []
    },
    {
      "cell_type": "code",
      "metadata": {
        "id": "fKKyk5Vt9VtZ"
      },
      "source": [
        "with open('history_model.gensim', 'rb') as file:\n",
        "    histgensim = p.load(file)"
      ],
      "execution_count": 52,
      "outputs": []
    },
    {
      "cell_type": "code",
      "metadata": {
        "id": "lMLKtjB2w9ow"
      },
      "source": [
        "loss = {key : histgensim.get(key) for key in ('loss', 'val_loss')}\n",
        "accuracy = {key : histgensim.get(key) for key in ('accuracy', 'val_accuracy')}"
      ],
      "execution_count": 53,
      "outputs": []
    },
    {
      "cell_type": "code",
      "metadata": {
        "colab": {
          "base_uri": "https://localhost:8080/",
          "height": 500
        },
        "id": "N73c0WDBw9ox",
        "outputId": "9cf0b02e-90f8-408b-febe-ec39034b9abf"
      },
      "source": [
        "plt.figure(figsize=(20,8))\n",
        "\n",
        "sns.lineplot(data=loss)"
      ],
      "execution_count": 54,
      "outputs": [
        {
          "output_type": "execute_result",
          "data": {
            "text/plain": [
              "<matplotlib.axes._subplots.AxesSubplot at 0x7f337c469c50>"
            ]
          },
          "metadata": {
            "tags": []
          },
          "execution_count": 54
        },
        {
          "output_type": "display_data",
          "data": {
            "image/png": "[encoded data removed]",
            "text/plain": [
              "<Figure size 1440x576 with 1 Axes>"
            ]
          },
          "metadata": {
            "tags": [],
            "needs_background": "light"
          }
        }
      ]
    },
    {
      "cell_type": "code",
      "metadata": {
        "colab": {
          "base_uri": "https://localhost:8080/",
          "height": 500
        },
        "id": "uF0XTtZuw9oy",
        "outputId": "1b4fbcec-7077-4293-d1fd-b26b3ac67159"
      },
      "source": [
        "plt.figure(figsize=(20,8))\n",
        "\n",
        "sns.lineplot(data=accuracy)"
      ],
      "execution_count": 55,
      "outputs": [
        {
          "output_type": "execute_result",
          "data": {
            "text/plain": [
              "<matplotlib.axes._subplots.AxesSubplot at 0x7f337c4f8e10>"
            ]
          },
          "metadata": {
            "tags": []
          },
          "execution_count": 55
        },
        {
          "output_type": "display_data",
          "data": {
            "image/png": "[encoded data removed]",
            "text/plain": [
              "<Figure size 1440x576 with 1 Axes>"
            ]
          },
          "metadata": {
            "tags": [],
            "needs_background": "light"
          }
        }
      ]
    },
    {
      "cell_type": "code",
      "metadata": {
        "id": "8iO5s1Gpw9oz"
      },
      "source": [
        "predict_model = load_model(filename)"
      ],
      "execution_count": 56,
      "outputs": []
    },
    {
      "cell_type": "code",
      "metadata": {
        "colab": {
          "base_uri": "https://localhost:8080/"
        },
        "id": "EkbkoiEpw9o0",
        "outputId": "1bc4e424-7ab6-4db9-d065-5b1f219d07bc"
      },
      "source": [
        "score = predict_model.evaluate(X_val, y_val, verbose=0)\n",
        "print('Test loss:', score[0])\n",
        "print('Test accuracy:', score[1])"
      ],
      "execution_count": 57,
      "outputs": [
        {
          "output_type": "stream",
          "text": [
            "Test loss: 0.6261888146400452\n",
            "Test accuracy: 0.6800000071525574\n"
          ],
          "name": "stdout"
        }
      ]
    },
    {
      "cell_type": "code",
      "metadata": {
        "id": "dHHVwA_pw9o1"
      },
      "source": [
        "pred = np.argmax(predict_model.predict(X_val), axis=-1)  # 0 means neg, 1 means pos\n",
        "y_true = np.argmax(y_val,axis = 1)"
      ],
      "execution_count": 58,
      "outputs": []
    },
    {
      "cell_type": "code",
      "metadata": {
        "colab": {
          "base_uri": "https://localhost:8080/",
          "height": 627
        },
        "id": "01URW5zDw9o1",
        "outputId": "18799668-a22c-44a1-d925-63a6753c838c"
      },
      "source": [
        "cm = confusion_matrix(y_true, pred)\n",
        "\n",
        "plt.figure(figsize=(12, 10))\n",
        "\n",
        "sns.heatmap(data=cm, annot=True)\n",
        "plt.xlabel('Predicted')\n",
        "plt.ylabel('Actual')"
      ],
      "execution_count": 59,
      "outputs": [
        {
          "output_type": "execute_result",
          "data": {
            "text/plain": [
              "Text(87.0, 0.5, 'Actual')"
            ]
          },
          "metadata": {
            "tags": []
          },
          "execution_count": 59
        },
        {
          "output_type": "display_data",
          "data": {
            "image/png": "[encoded data removed]",
            "text/plain": [
              "<Figure size 864x720 with 2 Axes>"
            ]
          },
          "metadata": {
            "tags": [],
            "needs_background": "light"
          }
        }
      ]
    },
    {
      "cell_type": "code",
      "metadata": {
        "id": "U37p9YGhI7fd"
      },
      "source": [
        "label_dict = output_tokenizer.word_index\n",
        "label = [key for key, value in label_dict.items()]"
      ],
      "execution_count": 60,
      "outputs": []
    },
    {
      "cell_type": "code",
      "metadata": {
        "id": "Hhy5HGWAI7iV"
      },
      "source": [
        "label = [key for key, value in label_dict.items()]"
      ],
      "execution_count": 61,
      "outputs": []
    },
    {
      "cell_type": "code",
      "metadata": {
        "colab": {
          "base_uri": "https://localhost:8080/"
        },
        "id": "8wFUpzlKI-hH",
        "outputId": "a8ae68aa-440a-4f61-d277-83df26f11a8b"
      },
      "source": [
        "print(classification_report(y_true, pred, target_names=label, digits=4))\n"
      ],
      "execution_count": 62,
      "outputs": [
        {
          "output_type": "stream",
          "text": [
            "              precision    recall  f1-score   support\n",
            "\n",
            "         neg     0.8214    0.4600    0.5897        50\n",
            "         pos     0.6250    0.9000    0.7377        50\n",
            "\n",
            "    accuracy                         0.6800       100\n",
            "   macro avg     0.7232    0.6800    0.6637       100\n",
            "weighted avg     0.7232    0.6800    0.6637       100\n",
            "\n"
          ],
          "name": "stdout"
        }
      ]
    }
  ]
}